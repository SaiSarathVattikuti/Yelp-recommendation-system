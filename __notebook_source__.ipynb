{
 "cells": [
  {
   "cell_type": "markdown",
   "metadata": {
    "_uuid": "6baf46e2d1814c6d74a85e1753af61b3c06cb96a"
   },
   "source": []
  },
  {
   "cell_type": "markdown",
   "metadata": {
    "_uuid": "ce6486b5d3b85ae3569a71668603863957f45d32"
   },
   "source": []
  },
  {
   "cell_type": "markdown",
   "metadata": {
    "_uuid": "5525c77bf96337f1f21d78df993d38e482b9b308"
   },
   "source": [
    "Let's begin by importing libraries and making sure we only deal with valid data."
   ]
  },
  {
   "cell_type": "code",
   "execution_count": 31,
   "metadata": {
    "_cell_guid": "b1076dfc-b9ad-4769-8c92-a6c4dae69d19",
    "_uuid": "8f2839f25d086af736a60e9eeb907d3b93b6e0e5"
   },
   "outputs": [],
   "source": [
    "import os\n",
    "import re\n",
    "import string\n",
    "\n",
    "import numpy as np \n",
    "import pandas as pd \n",
    "\n",
    "from nltk.tokenize import WordPunctTokenizer\n",
    "from nltk.corpus import stopwords\n",
    "from nltk.stem import SnowballStemmer\n",
    "\n",
    "from sklearn.feature_extraction.text import CountVectorizer"
   ]
  },
  {
   "cell_type": "code",
   "execution_count": 32,
   "metadata": {
    "_uuid": "4c8b0a68b09ee8fecbbfccdbeb300b63205e542d"
   },
   "outputs": [
    {
     "name": "stdout",
     "output_type": "stream",
     "text": [
      "Final Shape:  (59371, 14)\n"
     ]
    }
   ],
   "source": [
    "df_yelp_business = pd.read_json('../input/yelp_academic_dataset_business.json', lines=True)\n",
    "df_yelp_business.fillna('NA', inplace=True)\n",
    "\n",
    "df_yelp_business = df_yelp_business[df_yelp_business['categories'].str.contains('Restaurants')]\n",
    "print('Final Shape: ',df_yelp_business.shape)"
   ]
  },
  {
   "cell_type": "markdown",
   "metadata": {
    "_uuid": "2a6fee5c004788aaff55656025270d0adf7c3747"
   },
   "source": [
    "Now we bring the reviews and perform some preprocessing on those reviews.."
   ]
  },
  {
   "cell_type": "code",
   "execution_count": 33,
   "metadata": {
    "_uuid": "508d28c7fdb9065e3dbaf0a39472297fc3b292cf"
   },
   "outputs": [
    {
     "data": {
      "text/plain": [
       "<pandas.io.json.json.JsonReader at 0x7fbecf102b00>"
      ]
     },
     "execution_count": 33,
     "metadata": {},
     "output_type": "execute_result"
    }
   ],
   "source": [
    "df_yelp_review_iter = pd.read_json('../input/yelp_academic_dataset_review.json', chunksize=100000, lines=True)\n",
    "df_yelp_review_iter"
   ]
  },
  {
   "cell_type": "markdown",
   "metadata": {
    "_uuid": "c6689f58f21411bac18026ba6edfbd0248a8b2f8"
   },
   "source": [
    "Because reviews are too big, we will read them in chunks, and make sure we delete reviews of places that are not in our list of businesses filtered earlier. Note here we choose 5 chunks, but we could have chosen any number (larger numbers will give MemoryError later on)."
   ]
  },
  {
   "cell_type": "code",
   "execution_count": 34,
   "metadata": {
    "_uuid": "70007e05b3f8828eb82cc4c4f926f8e657861adb"
   },
   "outputs": [
    {
     "name": "stdout",
     "output_type": "stream",
     "text": [
      "1\n",
      "2\n",
      "3\n",
      "4\n"
     ]
    }
   ],
   "source": [
    "df_yelp_review = pd.DataFrame()\n",
    "i=0\n",
    "for df in df_yelp_review_iter:\n",
    "    df = df[df['business_id'].isin(df_yelp_business['business_id'])]\n",
    "    df_yelp_review = pd.concat([df_yelp_review, df])\n",
    "    i=i+1\n",
    "    print(i)\n",
    "    if i==4: break"
   ]
  },
  {
   "cell_type": "markdown",
   "metadata": {
    "_uuid": "85169d7858504ee719c36e795ba46f8eb9a3c909"
   },
   "source": []
  },
  {
   "cell_type": "code",
   "execution_count": 35,
   "metadata": {
    "_uuid": "1aad8f5fe22db8c3940e07fc3ae49d94000725bf"
   },
   "outputs": [],
   "source": [
    "df_yelp_business = df_yelp_business[df_yelp_business['business_id'].isin(df_yelp_review['business_id'])]"
   ]
  },
  {
   "cell_type": "code",
   "execution_count": 36,
   "metadata": {
    "_uuid": "6385a3d6f0f21f722925451ecf38ff5c90647b21"
   },
   "outputs": [
    {
     "name": "stdout",
     "output_type": "stream",
     "text": [
      "Final businesses shape:  (5747, 14)\n",
      "Final review shape:  (254171, 9)\n"
     ]
    }
   ],
   "source": [
    "print('Final businesses shape: ', df_yelp_business.shape)\n",
    "print('Final review shape: ', df_yelp_review.shape)"
   ]
  },
  {
   "cell_type": "markdown",
   "metadata": {
    "_uuid": "06b970d40d99d889f4483913fb21ab9a50f8f86d"
   },
   "source": []
  },
  {
   "cell_type": "code",
   "execution_count": 37,
   "metadata": {
    "_uuid": "c422664f62cf00325e65e3d65cb2cc324e6e229e"
   },
   "outputs": [],
   "source": [
    "def clean_text(text):\n",
    "    ## Remove puncuation\n",
    "    text = text.translate(string.punctuation)\n",
    "    \n",
    "    ## Convert words to lower case and split them\n",
    "    text = text.lower().split()\n",
    "    \n",
    "    ## Remove stop words\n",
    "    stops = set(stopwords.words(\"english\"))\n",
    "    text = [w for w in text if not w in stops and len(w) >= 3]\n",
    "    \n",
    "    text = \" \".join(text)\n",
    "    \n",
    "    # Clean the text\n",
    "    text = re.sub(r\"[^A-Za-z0-9^,!.\\/'+-=]\", \" \", text)\n",
    "    text = re.sub(r\"what's\", \"what is \", text)\n",
    "    text = re.sub(r\"\\'s\", \" \", text)\n",
    "    text = re.sub(r\"\\'ve\", \" have \", text)\n",
    "    text = re.sub(r\"n't\", \" not \", text)\n",
    "    text = re.sub(r\"i'm\", \"i am \", text)\n",
    "    text = re.sub(r\"\\'re\", \" are \", text)\n",
    "    text = re.sub(r\"\\'d\", \" would \", text)\n",
    "    text = re.sub(r\"\\'ll\", \" will \", text)\n",
    "    text = re.sub(r\",\", \" \", text)\n",
    "    text = re.sub(r\"\\.\", \" \", text)\n",
    "    text = re.sub(r\"!\", \" ! \", text)\n",
    "    text = re.sub(r\"\\/\", \" \", text)\n",
    "    text = re.sub(r\"\\^\", \" ^ \", text)\n",
    "    text = re.sub(r\"\\+\", \" + \", text)\n",
    "    text = re.sub(r\"\\-\", \" - \", text)\n",
    "    text = re.sub(r\"\\=\", \" = \", text)\n",
    "    text = re.sub(r\"'\", \" \", text)\n",
    "    text = re.sub(r\"(\\d+)(k)\", r\"\\g<1>000\", text)\n",
    "    text = re.sub(r\":\", \" : \", text)\n",
    "    text = re.sub(r\" e g \", \" eg \", text)\n",
    "    text = re.sub(r\" b g \", \" bg \", text)\n",
    "    text = re.sub(r\" u s \", \" american \", text)\n",
    "    text = re.sub(r\"\\0s\", \"0\", text)\n",
    "    text = re.sub(r\" 9 11 \", \"911\", text)\n",
    "    text = re.sub(r\"e - mail\", \"email\", text)\n",
    "    text = re.sub(r\"j k\", \"jk\", text)\n",
    "    text = re.sub(r\"\\s{2,}\", \" \", text)    \n",
    "    return text"
   ]
  },
  {
   "cell_type": "markdown",
   "metadata": {
    "_uuid": "1b5994feb7446844b74c9696e197fe0e1673de72"
   },
   "source": [
    "The next step will apply those transformations. Note that it will take a couple of minutes to finish."
   ]
  },
  {
   "cell_type": "code",
   "execution_count": 38,
   "metadata": {
    "_uuid": "02466c2f2dcce172f7c0cc655b8274187fbb0c12"
   },
   "outputs": [
    {
     "name": "stdout",
     "output_type": "stream",
     "text": [
      "CPU times: user 1min 21s, sys: 3.62 s, total: 1min 25s\n",
      "Wall time: 1min 25s\n"
     ]
    }
   ],
   "source": [
    "%%time\n",
    "df_yelp_review['text'] = df_yelp_review['text'].apply(clean_text)"
   ]
  },
  {
   "cell_type": "markdown",
   "metadata": {
    "_uuid": "877c084718b30dea58f6f929882211831d01a8ae"
   },
   "source": [
    "Now we want to vectorize both reviews and categories. Note that min_df and max_df arguments in both."
   ]
  },
  {
   "cell_type": "code",
   "execution_count": 39,
   "metadata": {
    "_uuid": "85e8d4363daba09a4835ec15b63c6f42b475f93d"
   },
   "outputs": [],
   "source": [
    "vectorizer_reviews = CountVectorizer(min_df = .01,max_df = .99, tokenizer = WordPunctTokenizer().tokenize)\n",
    "vectorized_reviews = vectorizer_reviews.fit_transform(df_yelp_review['text'])"
   ]
  },
  {
   "cell_type": "code",
   "execution_count": 40,
   "metadata": {
    "_uuid": "bc3440bda9e0c63df3e0fdc65b8dc5767e06b5f4"
   },
   "outputs": [
    {
     "name": "stdout",
     "output_type": "stream",
     "text": [
      "(254171, 924)\n"
     ]
    }
   ],
   "source": [
    "print(vectorized_reviews.shape)"
   ]
  },
  {
   "cell_type": "markdown",
   "metadata": {
    "_uuid": "aeccafffd14bdc0a3bbe45b98013129baf64c973"
   },
   "source": [
    " top 100 vocabularies:"
   ]
  },
  {
   "cell_type": "code",
   "execution_count": 41,
   "metadata": {
    "_uuid": "b4e5b9ac45228628c4e4dc1423b5d60e35ea4722"
   },
   "outputs": [
    {
     "data": {
      "text/plain": [
       "'! | + | - | 00 | 1 | 10 | 12 | 15 | 2 | 20 | 3 | 30 | 4 | 5 | 50 | 6 | 7 | 8 | 99 | : | ; | a | able | about | absolutely | across | actually | add | added | after | afternoon | again | ago | all | almost | along | already | also | although | always | am | amazing | ambiance | american | amount | and | another | anyone | anything | anyway | anywhere | appetizer | appetizers | are | area | around | arrived | as | asian | ask | asked | asking | at | ate | atmosphere | attention | attentive | attitude | authentic | available | average | avocado | away | awesome | awful | back | bacon | bad | baked | bar | barely | bartender | based | basically | bbq | be | bean | beans | beautiful | beef | beer | beers | before | behind | believe | best | better | beyond | big | bill'"
      ]
     },
     "execution_count": 41,
     "metadata": {},
     "output_type": "execute_result"
    }
   ],
   "source": [
    "' | '.join(vectorizer_reviews.get_feature_names()[:100]) # only the first 100"
   ]
  },
  {
   "cell_type": "code",
   "execution_count": 42,
   "metadata": {
    "_uuid": "16be9c9210be0b11d2a3a54408329331dc4cc325"
   },
   "outputs": [],
   "source": [
    "vectorizer_categories = CountVectorizer(min_df = 1, max_df = 1., tokenizer = lambda x: x.split(', '))\n",
    "vectorized_categories = vectorizer_categories.fit_transform(df_yelp_business['categories'])"
   ]
  },
  {
   "cell_type": "code",
   "execution_count": 43,
   "metadata": {
    "_uuid": "999758041a63677eb037437203d3904fc8dfb70a"
   },
   "outputs": [
    {
     "name": "stdout",
     "output_type": "stream",
     "text": [
      "(5747, 405)\n"
     ]
    }
   ],
   "source": [
    "print(vectorized_categories.shape)"
   ]
  },
  {
   "cell_type": "markdown",
   "metadata": {
    "_uuid": "b4066f4c766a6d5cb4b0db59ec8c15023d273844"
   },
   "source": [
    "We also show 100 categories.."
   ]
  },
  {
   "cell_type": "code",
   "execution_count": 44,
   "metadata": {
    "_uuid": "728980aaa816aacc80d548a965b589f91e6e68e9"
   },
   "outputs": [
    {
     "data": {
      "text/plain": [
       "'acai bowls | accessories | active life | adult education | adult entertainment | afghan | african | air duct cleaning | airport shuttles | amateur sports teams | american (new) | american (traditional) | amusement parks | antiques | apartments | appliances | arabian | arcades | argentine | armenian | art classes | art galleries | art schools | arts & crafts | arts & entertainment | asian fusion | australian | austrian | automotive | bagels | bakeries | bangladeshi | bar crawl | barbeque | barbers | bars | bartenders | basque | beach bars | beaches | beauty & spas | bed & breakfast | beer | beer bar | beer gardens | belgian | bingo halls | bistros | boat charters | body shops | books | bookstores | bowling | brasseries | brazilian | breakfast & brunch | breweries | brewpubs | british | bubble tea | buffets | burgers | burmese | bus tours | butcher | cafes | cafeteria | cajun/creole | cambodian | canadian (new) | candy stores | cannabis dispensaries | cantonese | car dealers | car rental | car wash | caribbean | casinos | caterers | cheese shops | cheesesteaks | chicken shop | chicken wings | chinese | chiropractors | chocolatiers & shops | churches | cideries | cinema | climbing | clowns | cocktail bars | coffee & tea | coffee & tea supplies | coffee roasteries | colleges & universities | colombian | comedy clubs | comfort food | community service/non-profit'"
      ]
     },
     "execution_count": 44,
     "metadata": {},
     "output_type": "execute_result"
    }
   ],
   "source": [
    "' | '.join(vectorizer_categories.get_feature_names()[:100]) # only the first 100"
   ]
  },
  {
   "cell_type": "markdown",
   "metadata": {
    "_uuid": "66af894d9c953efa181e0e449e388314eb0a9b36"
   },
   "source": []
  },
  {
   "cell_type": "code",
   "execution_count": 45,
   "metadata": {
    "_uuid": "7a9f9b515fd5f5ba86d24b32bcd5823100dd82bd"
   },
   "outputs": [
    {
     "name": "stdout",
     "output_type": "stream",
     "text": [
      "CPU times: user 11 s, sys: 744 ms, total: 11.8 s\n",
      "Wall time: 11.8 s\n"
     ]
    }
   ],
   "source": [
    "%%time\n",
    "from scipy import sparse\n",
    "businessxreview = sparse.csr_matrix(pd.get_dummies(df_yelp_review['business_id']).values)"
   ]
  },
  {
   "cell_type": "markdown",
   "metadata": {
    "_uuid": "804981e9ae1f50a57cccf851bde93ca281035722"
   },
   "source": [
    "Let's print out the shapes of the matrices we have prepared and make sure they make sense (by matching their dimensions):"
   ]
  },
  {
   "cell_type": "code",
   "execution_count": 46,
   "metadata": {
    "_uuid": "9890695225fbbc6d1dc9822184373c2e936631bf"
   },
   "outputs": [
    {
     "name": "stdout",
     "output_type": "stream",
     "text": [
      "restuarants x categories: \t (5747, 405)\n",
      "restuarants x reviews: \t\t (254171, 5747)\n",
      "reviews x words: \t\t (254171, 924)\n"
     ]
    }
   ],
   "source": [
    "print('restuarants x categories: \\t', vectorized_categories.shape) \n",
    "print('restuarants x reviews: \\t\\t' , businessxreview.shape) \n",
    "print('reviews x words: \\t\\t', vectorized_reviews.shape)"
   ]
  },
  {
   "cell_type": "markdown",
   "metadata": {
    "_uuid": "27097297ed3ba509045cf848d761db9d39860d1b"
   },
   "source": [
    "Now we are ready to choose a seed restaurant and find  other restaurants that might be as good as the seed restaurant. We make sure to choose a restaurant with good number of reviews and ratings."
   ]
  },
  {
   "cell_type": "code",
   "execution_count": 47,
   "metadata": {
    "_uuid": "4a8d5c1ae8f0ca0af2da498f06668554194ee594"
   },
   "outputs": [
    {
     "data": {
      "text/html": [
       "<div>\n",
       "<style scoped>\n",
       "    .dataframe tbody tr th:only-of-type {\n",
       "        vertical-align: middle;\n",
       "    }\n",
       "\n",
       "    .dataframe tbody tr th {\n",
       "        vertical-align: top;\n",
       "    }\n",
       "\n",
       "    .dataframe thead th {\n",
       "        text-align: right;\n",
       "    }\n",
       "</style>\n",
       "<table border=\"1\" class=\"dataframe\">\n",
       "  <thead>\n",
       "    <tr style=\"text-align: right;\">\n",
       "      <th></th>\n",
       "      <th>address</th>\n",
       "      <th>attributes</th>\n",
       "      <th>business_id</th>\n",
       "      <th>categories</th>\n",
       "      <th>city</th>\n",
       "      <th>hours</th>\n",
       "      <th>is_open</th>\n",
       "      <th>latitude</th>\n",
       "      <th>longitude</th>\n",
       "      <th>name</th>\n",
       "      <th>postal_code</th>\n",
       "      <th>review_count</th>\n",
       "      <th>stars</th>\n",
       "      <th>state</th>\n",
       "    </tr>\n",
       "  </thead>\n",
       "  <tbody>\n",
       "    <tr>\n",
       "      <th>15453</th>\n",
       "      <td>3560 Rutherford Rd, Unit 60</td>\n",
       "      <td>{'RestaurantsGoodForGroups': 'True', 'GoodForK...</td>\n",
       "      <td>H9WgoLOMS5emyetYD6YVUA</td>\n",
       "      <td>Pizza, Restaurants, Italian</td>\n",
       "      <td>Vaughan</td>\n",
       "      <td>{'Tuesday': '12:0-20:0', 'Wednesday': '12:0-20...</td>\n",
       "      <td>1</td>\n",
       "      <td>43.828219</td>\n",
       "      <td>-79.549951</td>\n",
       "      <td>Taste of Naples Pizzeria</td>\n",
       "      <td>L4H 2J3</td>\n",
       "      <td>32</td>\n",
       "      <td>5.0</td>\n",
       "      <td>ON</td>\n",
       "    </tr>\n",
       "    <tr>\n",
       "      <th>13008</th>\n",
       "      <td>6008 MacLeod Trail SW</td>\n",
       "      <td>{'RestaurantsPriceRange2': '2', 'RestaurantsDe...</td>\n",
       "      <td>WlDC_QWKuEVrSMQh5CuGSA</td>\n",
       "      <td>Vietnamese, Restaurants</td>\n",
       "      <td>Calgary</td>\n",
       "      <td>{'Monday': '10:30-21:0', 'Tuesday': '10:30-21:...</td>\n",
       "      <td>1</td>\n",
       "      <td>50.999562</td>\n",
       "      <td>-114.070702</td>\n",
       "      <td>Golden Bell Saigon &amp; Vietnamese Restaurant</td>\n",
       "      <td>T2H 0K1</td>\n",
       "      <td>35</td>\n",
       "      <td>3.5</td>\n",
       "      <td>AB</td>\n",
       "    </tr>\n",
       "    <tr>\n",
       "      <th>4296</th>\n",
       "      <td>1090 Don Mills Rd</td>\n",
       "      <td>{'BusinessParking': '{'garage': False, 'street...</td>\n",
       "      <td>7UPTUpex3O1Gav3td7GOEw</td>\n",
       "      <td>Restaurants, Burgers</td>\n",
       "      <td>Toronto</td>\n",
       "      <td>NA</td>\n",
       "      <td>0</td>\n",
       "      <td>43.736442</td>\n",
       "      <td>-79.344201</td>\n",
       "      <td>South St Burger Co</td>\n",
       "      <td>M3C 3R6</td>\n",
       "      <td>6</td>\n",
       "      <td>3.0</td>\n",
       "      <td>ON</td>\n",
       "    </tr>\n",
       "    <tr>\n",
       "      <th>9128</th>\n",
       "      <td>820 S Rampart Blvd</td>\n",
       "      <td>{'OutdoorSeating': 'True', 'RestaurantsReserva...</td>\n",
       "      <td>Ke0nQzmHSGTdSqmagaNr4Q</td>\n",
       "      <td>Restaurants, American (New)</td>\n",
       "      <td>Las Vegas</td>\n",
       "      <td>NA</td>\n",
       "      <td>0</td>\n",
       "      <td>36.162198</td>\n",
       "      <td>-115.288825</td>\n",
       "      <td>Panda Express</td>\n",
       "      <td>89145</td>\n",
       "      <td>3</td>\n",
       "      <td>2.5</td>\n",
       "      <td>NV</td>\n",
       "    </tr>\n",
       "    <tr>\n",
       "      <th>17475</th>\n",
       "      <td>2813 N Sherman Ave</td>\n",
       "      <td>{'GoodForKids': 'True', 'RestaurantsTakeOut': ...</td>\n",
       "      <td>5sEcWQd9-LqRvE98ouEILA</td>\n",
       "      <td>Sandwiches, Fast Food, Restaurants</td>\n",
       "      <td>Madison</td>\n",
       "      <td>{'Monday': '7:0-22:0', 'Tuesday': '7:0-22:0', ...</td>\n",
       "      <td>1</td>\n",
       "      <td>43.127623</td>\n",
       "      <td>-89.363022</td>\n",
       "      <td>Subway</td>\n",
       "      <td>53704</td>\n",
       "      <td>4</td>\n",
       "      <td>3.0</td>\n",
       "      <td>WI</td>\n",
       "    </tr>\n",
       "    <tr>\n",
       "      <th>15879</th>\n",
       "      <td>3124 Milton Rd</td>\n",
       "      <td>{'GoodForKids': 'True', 'Alcohol': 'u'none'', ...</td>\n",
       "      <td>0gfGLDe_gSr9CYUBO57i0g</td>\n",
       "      <td>Restaurants, Seafood</td>\n",
       "      <td>Charlotte</td>\n",
       "      <td>NA</td>\n",
       "      <td>1</td>\n",
       "      <td>35.234822</td>\n",
       "      <td>-80.735712</td>\n",
       "      <td>Mayflower Seafood Restaurant</td>\n",
       "      <td>28215</td>\n",
       "      <td>3</td>\n",
       "      <td>3.5</td>\n",
       "      <td>NC</td>\n",
       "    </tr>\n",
       "    <tr>\n",
       "      <th>10218</th>\n",
       "      <td>2365 E Windmill Ln</td>\n",
       "      <td>{'HasTV': 'False', 'Alcohol': ''none'', 'Resta...</td>\n",
       "      <td>taaYWCkUulZL56qZmS1VzQ</td>\n",
       "      <td>Fast Food, Restaurants</td>\n",
       "      <td>Las Vegas</td>\n",
       "      <td>NA</td>\n",
       "      <td>1</td>\n",
       "      <td>36.041935</td>\n",
       "      <td>-115.120227</td>\n",
       "      <td>Jack In The Box</td>\n",
       "      <td>89123</td>\n",
       "      <td>24</td>\n",
       "      <td>3.0</td>\n",
       "      <td>NV</td>\n",
       "    </tr>\n",
       "    <tr>\n",
       "      <th>10902</th>\n",
       "      <td>114 Avenue Laurier Ouest</td>\n",
       "      <td>{'BusinessParking': '{'garage': False, 'street...</td>\n",
       "      <td>5eHHAGIrDDyvFZfQn1kX4Q</td>\n",
       "      <td>French, Restaurants</td>\n",
       "      <td>Montréal</td>\n",
       "      <td>NA</td>\n",
       "      <td>0</td>\n",
       "      <td>45.521543</td>\n",
       "      <td>-73.594040</td>\n",
       "      <td>Raza</td>\n",
       "      <td>H2T 2N7</td>\n",
       "      <td>5</td>\n",
       "      <td>5.0</td>\n",
       "      <td>QC</td>\n",
       "    </tr>\n",
       "    <tr>\n",
       "      <th>13241</th>\n",
       "      <td>35 Peel Centre Drive</td>\n",
       "      <td>{'GoodForKids': 'True', 'BikeParking': 'True',...</td>\n",
       "      <td>6SxrnI0BKc7bVj7Vcuu7Vw</td>\n",
       "      <td>Restaurants, Food, Sandwiches, Donuts, Coffee ...</td>\n",
       "      <td>Brampton</td>\n",
       "      <td>NA</td>\n",
       "      <td>1</td>\n",
       "      <td>43.713822</td>\n",
       "      <td>-79.721120</td>\n",
       "      <td>Tim Horton's</td>\n",
       "      <td>L6T 5T9</td>\n",
       "      <td>5</td>\n",
       "      <td>2.5</td>\n",
       "      <td>ON</td>\n",
       "    </tr>\n",
       "    <tr>\n",
       "      <th>9710</th>\n",
       "      <td>4338 Macleod Trail SW</td>\n",
       "      <td>{'RestaurantsReservations': 'False', 'Restaura...</td>\n",
       "      <td>W41b6wGEZ5YBJxyqdN1RpA</td>\n",
       "      <td>Middle Eastern, Hookah Bars, Restaurants, Nigh...</td>\n",
       "      <td>Calgary</td>\n",
       "      <td>{'Monday': '17:0-0:0', 'Tuesday': '17:0-0:0', ...</td>\n",
       "      <td>0</td>\n",
       "      <td>51.014576</td>\n",
       "      <td>-114.064933</td>\n",
       "      <td>Babylon Restaurant</td>\n",
       "      <td>T2G 0A4</td>\n",
       "      <td>10</td>\n",
       "      <td>3.0</td>\n",
       "      <td>AB</td>\n",
       "    </tr>\n",
       "  </tbody>\n",
       "</table>\n",
       "</div>"
      ],
      "text/plain": [
       "                           address  \\\n",
       "15453  3560 Rutherford Rd, Unit 60   \n",
       "13008        6008 MacLeod Trail SW   \n",
       "4296             1090 Don Mills Rd   \n",
       "9128            820 S Rampart Blvd   \n",
       "17475           2813 N Sherman Ave   \n",
       "15879               3124 Milton Rd   \n",
       "10218           2365 E Windmill Ln   \n",
       "10902     114 Avenue Laurier Ouest   \n",
       "13241         35 Peel Centre Drive   \n",
       "9710         4338 Macleod Trail SW   \n",
       "\n",
       "                                              attributes  \\\n",
       "15453  {'RestaurantsGoodForGroups': 'True', 'GoodForK...   \n",
       "13008  {'RestaurantsPriceRange2': '2', 'RestaurantsDe...   \n",
       "4296   {'BusinessParking': '{'garage': False, 'street...   \n",
       "9128   {'OutdoorSeating': 'True', 'RestaurantsReserva...   \n",
       "17475  {'GoodForKids': 'True', 'RestaurantsTakeOut': ...   \n",
       "15879  {'GoodForKids': 'True', 'Alcohol': 'u'none'', ...   \n",
       "10218  {'HasTV': 'False', 'Alcohol': ''none'', 'Resta...   \n",
       "10902  {'BusinessParking': '{'garage': False, 'street...   \n",
       "13241  {'GoodForKids': 'True', 'BikeParking': 'True',...   \n",
       "9710   {'RestaurantsReservations': 'False', 'Restaura...   \n",
       "\n",
       "                  business_id  \\\n",
       "15453  H9WgoLOMS5emyetYD6YVUA   \n",
       "13008  WlDC_QWKuEVrSMQh5CuGSA   \n",
       "4296   7UPTUpex3O1Gav3td7GOEw   \n",
       "9128   Ke0nQzmHSGTdSqmagaNr4Q   \n",
       "17475  5sEcWQd9-LqRvE98ouEILA   \n",
       "15879  0gfGLDe_gSr9CYUBO57i0g   \n",
       "10218  taaYWCkUulZL56qZmS1VzQ   \n",
       "10902  5eHHAGIrDDyvFZfQn1kX4Q   \n",
       "13241  6SxrnI0BKc7bVj7Vcuu7Vw   \n",
       "9710   W41b6wGEZ5YBJxyqdN1RpA   \n",
       "\n",
       "                                              categories       city  \\\n",
       "15453                        Pizza, Restaurants, Italian    Vaughan   \n",
       "13008                            Vietnamese, Restaurants    Calgary   \n",
       "4296                                Restaurants, Burgers    Toronto   \n",
       "9128                         Restaurants, American (New)  Las Vegas   \n",
       "17475                 Sandwiches, Fast Food, Restaurants    Madison   \n",
       "15879                               Restaurants, Seafood  Charlotte   \n",
       "10218                             Fast Food, Restaurants  Las Vegas   \n",
       "10902                                French, Restaurants   Montréal   \n",
       "13241  Restaurants, Food, Sandwiches, Donuts, Coffee ...   Brampton   \n",
       "9710   Middle Eastern, Hookah Bars, Restaurants, Nigh...    Calgary   \n",
       "\n",
       "                                                   hours  is_open   latitude  \\\n",
       "15453  {'Tuesday': '12:0-20:0', 'Wednesday': '12:0-20...        1  43.828219   \n",
       "13008  {'Monday': '10:30-21:0', 'Tuesday': '10:30-21:...        1  50.999562   \n",
       "4296                                                  NA        0  43.736442   \n",
       "9128                                                  NA        0  36.162198   \n",
       "17475  {'Monday': '7:0-22:0', 'Tuesday': '7:0-22:0', ...        1  43.127623   \n",
       "15879                                                 NA        1  35.234822   \n",
       "10218                                                 NA        1  36.041935   \n",
       "10902                                                 NA        0  45.521543   \n",
       "13241                                                 NA        1  43.713822   \n",
       "9710   {'Monday': '17:0-0:0', 'Tuesday': '17:0-0:0', ...        0  51.014576   \n",
       "\n",
       "        longitude                                        name postal_code  \\\n",
       "15453  -79.549951                    Taste of Naples Pizzeria     L4H 2J3   \n",
       "13008 -114.070702  Golden Bell Saigon & Vietnamese Restaurant     T2H 0K1   \n",
       "4296   -79.344201                          South St Burger Co     M3C 3R6   \n",
       "9128  -115.288825                               Panda Express       89145   \n",
       "17475  -89.363022                                      Subway       53704   \n",
       "15879  -80.735712                Mayflower Seafood Restaurant       28215   \n",
       "10218 -115.120227                             Jack In The Box       89123   \n",
       "10902  -73.594040                                        Raza     H2T 2N7   \n",
       "13241  -79.721120                                Tim Horton's     L6T 5T9   \n",
       "9710  -114.064933                          Babylon Restaurant     T2G 0A4   \n",
       "\n",
       "       review_count  stars state  \n",
       "15453            32    5.0    ON  \n",
       "13008            35    3.5    AB  \n",
       "4296              6    3.0    ON  \n",
       "9128              3    2.5    NV  \n",
       "17475             4    3.0    WI  \n",
       "15879             3    3.5    NC  \n",
       "10218            24    3.0    NV  \n",
       "10902             5    5.0    QC  \n",
       "13241             5    2.5    ON  \n",
       "9710             10    3.0    AB  "
      ]
     },
     "execution_count": 47,
     "metadata": {},
     "output_type": "execute_result"
    }
   ],
   "source": [
    "# to choose a restaurant, just copy the business id and paste it in the next cell\n",
    "# you can always rerun the cell to choose another restuarant. \n",
    "df_yelp_business.sample(10)"
   ]
  },
  {
   "cell_type": "code",
   "execution_count": 48,
   "metadata": {
    "_uuid": "e82d082208d30f99a90e97b6cdb801952e087b15",
    "scrolled": true
   },
   "outputs": [],
   "source": [
    "business_choose = 'aUrOyWFKxKeVXiFzwbTXSA' # vegan, vegetarian, cafes"
   ]
  },
  {
   "cell_type": "markdown",
   "metadata": {
    "_uuid": "80cde331c86c16d4d71a649f048425b2ec46ba52"
   },
   "source": [
    "First, we pull up the reivews and then show some of them"
   ]
  },
  {
   "cell_type": "code",
   "execution_count": 49,
   "metadata": {
    "_uuid": "9fe93d1643757dd3304914c833efc04cea4c50de"
   },
   "outputs": [],
   "source": [
    "new_reviews = df_yelp_review.loc[df_yelp_review['business_id'] == business_choose, 'text']"
   ]
  },
  {
   "cell_type": "code",
   "execution_count": 50,
   "metadata": {
    "_uuid": "8dc2541edd9d7d9360bdae68d792652e76543b4c"
   },
   "outputs": [
    {
     "name": "stdout",
     "output_type": "stream",
     "text": [
      "\n"
     ]
    }
   ],
   "source": [
    "print('\\n'.join([r[:100] for r in new_reviews.tolist()])) # restaurant reviews"
   ]
  },
  {
   "cell_type": "markdown",
   "metadata": {
    "_uuid": "b01898d63f2727606f4f3f480ba12b524eced878"
   },
   "source": [
    "*Then we pull up the categories:"
   ]
  },
  {
   "cell_type": "code",
   "execution_count": 51,
   "metadata": {
    "_uuid": "b2411a142b5f4b3f35d65578d049815080b1ae07"
   },
   "outputs": [],
   "source": [
    "new_categories = df_yelp_business.loc[df_yelp_business['business_id'] == business_choose, 'categories']"
   ]
  },
  {
   "cell_type": "code",
   "execution_count": 52,
   "metadata": {
    "_uuid": "7f0cf58f526da537fb620c0d39c4862bed7ea873"
   },
   "outputs": [
    {
     "data": {
      "text/plain": [
       "[]"
      ]
     },
     "execution_count": 52,
     "metadata": {},
     "output_type": "execute_result"
    }
   ],
   "source": [
    "new_categories.tolist() #  restaurant categories"
   ]
  },
  {
   "cell_type": "markdown",
   "metadata": {
    "_uuid": "c6fed5c06f9404c42f69c982036a10a9ee9b21d7"
   },
   "source": [
    "Here, we compute two sets of distancecs: we compute the correlation distance of the average vectorized reviews to all the reviews, and compute the correlation distance between this category and all other categories. The category trick will be clearer when we see the results."
   ]
  },
  {
   "cell_type": "code",
   "execution_count": 53,
   "metadata": {
    "_uuid": "92237d3dacd2acc24169d41c5887f0b46d1feaf3"
   },
   "outputs": [
    {
     "name": "stderr",
     "output_type": "stream",
     "text": [
      "/opt/conda/lib/python3.6/site-packages/numpy/matrixlib/defmatrix.py:447: RuntimeWarning: Mean of empty slice.\n",
      "  return N.ndarray.mean(self, axis, dtype, out, keepdims=True)._collapse(axis)\n",
      "/opt/conda/lib/python3.6/site-packages/numpy/core/_methods.py:78: RuntimeWarning: invalid value encountered in true_divide\n",
      "  ret, rcount, out=ret, casting='unsafe', subok=False)\n"
     ]
    }
   ],
   "source": [
    "from scipy.spatial.distance import cdist\n",
    "# find most similar reviews\n",
    "dists1 = cdist(vectorizer_reviews.transform(new_reviews).todense().mean(axis=0), \n",
    "              vectorized_reviews.T.dot(businessxreview).T.todense(), \n",
    "               metric='correlation')\n",
    "# find most similar categories\n",
    "dists2 = cdist(vectorizer_categories.transform(new_categories).todense().mean(axis=0), \n",
    "              vectorized_categories.todense(), \n",
    "               metric='correlation')"
   ]
  },
  {
   "cell_type": "markdown",
   "metadata": {
    "_uuid": "1e25578261fea8c2e89c44a7a2a6680d09683c06"
   },
   "source": [
    "*Now we combine the two sets of distances and take the average of those (we can take other metrics such as min or max, depending on your priority)."
   ]
  },
  {
   "cell_type": "code",
   "execution_count": 54,
   "metadata": {
    "_uuid": "0a0a6a140460bc8cdb96008a90f22d0b3cc451bf"
   },
   "outputs": [],
   "source": [
    "# combine the two vectors in one matrix\n",
    "dists_together = np.vstack([dists1.ravel(), dists2.ravel()]).T"
   ]
  },
  {
   "cell_type": "code",
   "execution_count": null,
   "metadata": {
    "_uuid": "42aedd72bd2ffd64b496eaac3ce994d75b6c1afb"
   },
   "outputs": [],
   "source": []
  },
  {
   "cell_type": "code",
   "execution_count": 56,
   "metadata": {
    "_uuid": "d0785ddc0dbb7030c1c8fa5ca7e59b52460b0916"
   },
   "outputs": [],
   "source": [
    "# this is a key cell: how are we going to prioritize ?\n",
    "dists = dists_together.mean(axis=1)"
   ]
  },
  {
   "cell_type": "code",
   "execution_count": null,
   "metadata": {
    "_uuid": "d92a6136d5516dc009e5815cc9d713e83efe618a"
   },
   "outputs": [],
   "source": []
  },
  {
   "cell_type": "markdown",
   "metadata": {
    "_uuid": "30d6ecc96ded703acdad3ea19e6e7fcb3a69e6a4"
   },
   "source": [
    "Let's select the closest 10 restaurants to the seed restaurant."
   ]
  },
  {
   "cell_type": "code",
   "execution_count": 59,
   "metadata": {
    "_uuid": "1f13e5bf777479c5854c392897621a1cb6efd300"
   },
   "outputs": [],
   "source": [
    "# select the closest 10\n",
    "closest = dists.argsort().ravel()[:10]"
   ]
  },
  {
   "cell_type": "markdown",
   "metadata": {
    "_uuid": "ecf8e9af29ed4297bf52626fb12442e36f943546"
   },
   "source": [
    "Here is our seed restaurant:"
   ]
  },
  {
   "cell_type": "code",
   "execution_count": 60,
   "metadata": {
    "_uuid": "c2f35a231e044d1db227f669e402df12dd3a78be"
   },
   "outputs": [
    {
     "data": {
      "text/html": [
       "<div>\n",
       "<style scoped>\n",
       "    .dataframe tbody tr th:only-of-type {\n",
       "        vertical-align: middle;\n",
       "    }\n",
       "\n",
       "    .dataframe tbody tr th {\n",
       "        vertical-align: top;\n",
       "    }\n",
       "\n",
       "    .dataframe thead th {\n",
       "        text-align: right;\n",
       "    }\n",
       "</style>\n",
       "<table border=\"1\" class=\"dataframe\">\n",
       "  <thead>\n",
       "    <tr style=\"text-align: right;\">\n",
       "      <th></th>\n",
       "      <th>business_id</th>\n",
       "      <th>categories</th>\n",
       "      <th>name</th>\n",
       "      <th>stars</th>\n",
       "    </tr>\n",
       "  </thead>\n",
       "  <tbody>\n",
       "  </tbody>\n",
       "</table>\n",
       "</div>"
      ],
      "text/plain": [
       "Empty DataFrame\n",
       "Columns: [business_id, categories, name, stars]\n",
       "Index: []"
      ]
     },
     "execution_count": 60,
     "metadata": {},
     "output_type": "execute_result"
    }
   ],
   "source": [
    "df_yelp_business.loc[df_yelp_business['business_id']== business_choose, ['business_id', 'categories', 'name', 'stars']]"
   ]
  },
  {
   "cell_type": "markdown",
   "metadata": {
    "_uuid": "9d3faafa156f20c890fccc33a0d7e966198a564c"
   },
   "source": [
    "Now let's see what the top matches:"
   ]
  },
  {
   "cell_type": "code",
   "execution_count": 61,
   "metadata": {
    "_uuid": "a207095cce600b7a3db0e426a3e9ce4ec07b5bf7"
   },
   "outputs": [
    {
     "data": {
      "text/html": [
       "<div>\n",
       "<style scoped>\n",
       "    .dataframe tbody tr th:only-of-type {\n",
       "        vertical-align: middle;\n",
       "    }\n",
       "\n",
       "    .dataframe tbody tr th {\n",
       "        vertical-align: top;\n",
       "    }\n",
       "\n",
       "    .dataframe thead th {\n",
       "        text-align: right;\n",
       "    }\n",
       "</style>\n",
       "<table border=\"1\" class=\"dataframe\">\n",
       "  <thead>\n",
       "    <tr style=\"text-align: right;\">\n",
       "      <th></th>\n",
       "      <th>business_id</th>\n",
       "      <th>categories</th>\n",
       "      <th>name</th>\n",
       "      <th>stars</th>\n",
       "    </tr>\n",
       "  </thead>\n",
       "  <tbody>\n",
       "    <tr>\n",
       "      <th>1</th>\n",
       "      <td>QXAEGFB4oINsVuTFxEYKFQ</td>\n",
       "      <td>Specialty Food, Restaurants, Dim Sum, Imported...</td>\n",
       "      <td>Emerald Chinese Restaurant</td>\n",
       "      <td>2.5</td>\n",
       "    </tr>\n",
       "    <tr>\n",
       "      <th>12921</th>\n",
       "      <td>viHZE3j_XZ9Mp4DwmvscVw</td>\n",
       "      <td>Ice Cream &amp; Frozen Yogurt, Food, Restaurants, ...</td>\n",
       "      <td>Pinkberry</td>\n",
       "      <td>4.0</td>\n",
       "    </tr>\n",
       "    <tr>\n",
       "      <th>12930</th>\n",
       "      <td>DQbbE26lEFq4rEFSaEEhRg</td>\n",
       "      <td>American (Traditional), Restaurants, Comfort Food</td>\n",
       "      <td>Swiss Chalet Rotisserie &amp; Grill</td>\n",
       "      <td>2.0</td>\n",
       "    </tr>\n",
       "    <tr>\n",
       "      <th>12931</th>\n",
       "      <td>2ZEnhnWEascgZDMdf6kfAg</td>\n",
       "      <td>Chinese, Restaurants</td>\n",
       "      <td>Chez Chen</td>\n",
       "      <td>4.0</td>\n",
       "    </tr>\n",
       "    <tr>\n",
       "      <th>12937</th>\n",
       "      <td>nICEDIVnk6OJZMaDr1Dz3A</td>\n",
       "      <td>Mexican, Restaurants</td>\n",
       "      <td>Los Alegres Compadres Family Mexican Restaurant</td>\n",
       "      <td>3.5</td>\n",
       "    </tr>\n",
       "    <tr>\n",
       "      <th>12939</th>\n",
       "      <td>W7hCuNdn2gzehta6eSHzgQ</td>\n",
       "      <td>Restaurants, Fish &amp; Chips, Seafood</td>\n",
       "      <td>Pete's Fish &amp; Chips</td>\n",
       "      <td>2.0</td>\n",
       "    </tr>\n",
       "    <tr>\n",
       "      <th>12947</th>\n",
       "      <td>YyyqcbVyoBo4wPsgowUtUQ</td>\n",
       "      <td>Japanese, Restaurants</td>\n",
       "      <td>SASA</td>\n",
       "      <td>4.0</td>\n",
       "    </tr>\n",
       "    <tr>\n",
       "      <th>12953</th>\n",
       "      <td>KN0gPRzDvA6uVYims2KA0w</td>\n",
       "      <td>Restaurants, Canadian (New), Greek</td>\n",
       "      <td>Rosemary &amp; Thyme Family Restaurant</td>\n",
       "      <td>4.0</td>\n",
       "    </tr>\n",
       "    <tr>\n",
       "      <th>12975</th>\n",
       "      <td>PtBYoyHs9P3SNG-8G8-EGw</td>\n",
       "      <td>Italian, Canadian (New), Barbeque, Seafood, Re...</td>\n",
       "      <td>Le Pirate de Laval</td>\n",
       "      <td>3.5</td>\n",
       "    </tr>\n",
       "    <tr>\n",
       "      <th>12978</th>\n",
       "      <td>DI8SC8MF0wh3ba45aN9dTw</td>\n",
       "      <td>Restaurants, American (Traditional)</td>\n",
       "      <td>Dunkin' Donuts</td>\n",
       "      <td>2.5</td>\n",
       "    </tr>\n",
       "  </tbody>\n",
       "</table>\n",
       "</div>"
      ],
      "text/plain": [
       "                  business_id  \\\n",
       "1      QXAEGFB4oINsVuTFxEYKFQ   \n",
       "12921  viHZE3j_XZ9Mp4DwmvscVw   \n",
       "12930  DQbbE26lEFq4rEFSaEEhRg   \n",
       "12931  2ZEnhnWEascgZDMdf6kfAg   \n",
       "12937  nICEDIVnk6OJZMaDr1Dz3A   \n",
       "12939  W7hCuNdn2gzehta6eSHzgQ   \n",
       "12947  YyyqcbVyoBo4wPsgowUtUQ   \n",
       "12953  KN0gPRzDvA6uVYims2KA0w   \n",
       "12975  PtBYoyHs9P3SNG-8G8-EGw   \n",
       "12978  DI8SC8MF0wh3ba45aN9dTw   \n",
       "\n",
       "                                              categories  \\\n",
       "1      Specialty Food, Restaurants, Dim Sum, Imported...   \n",
       "12921  Ice Cream & Frozen Yogurt, Food, Restaurants, ...   \n",
       "12930  American (Traditional), Restaurants, Comfort Food   \n",
       "12931                               Chinese, Restaurants   \n",
       "12937                               Mexican, Restaurants   \n",
       "12939                 Restaurants, Fish & Chips, Seafood   \n",
       "12947                              Japanese, Restaurants   \n",
       "12953                 Restaurants, Canadian (New), Greek   \n",
       "12975  Italian, Canadian (New), Barbeque, Seafood, Re...   \n",
       "12978                Restaurants, American (Traditional)   \n",
       "\n",
       "                                                  name  stars  \n",
       "1                           Emerald Chinese Restaurant    2.5  \n",
       "12921                                        Pinkberry    4.0  \n",
       "12930                  Swiss Chalet Rotisserie & Grill    2.0  \n",
       "12931                                        Chez Chen    4.0  \n",
       "12937  Los Alegres Compadres Family Mexican Restaurant    3.5  \n",
       "12939                              Pete's Fish & Chips    2.0  \n",
       "12947                                             SASA    4.0  \n",
       "12953               Rosemary & Thyme Family Restaurant    4.0  \n",
       "12975                               Le Pirate de Laval    3.5  \n",
       "12978                                   Dunkin' Donuts    2.5  "
      ]
     },
     "execution_count": 61,
     "metadata": {},
     "output_type": "execute_result"
    }
   ],
   "source": [
    "df_yelp_business.loc[df_yelp_business['business_id'].isin(df_yelp_business['business_id'].iloc[closest]), ['business_id', 'categories', 'name', 'stars']]"
   ]
  },
  {
   "cell_type": "markdown",
   "metadata": {
    "_uuid": "4e2b6a30a0d1ebd6b140af178bc196bcc5b57dcf"
   },
   "source": [
    "Although many of those seem to come from the same category (Vegetarian and Vegan), there is a considerable variation in those categories (Ethiopian, African, Asian Fusion, .. etc). Most importantly, they all seem highly rated.\n",
    "\n",
    "Would you go and try those out and be little surprised ? It is really up to you."
   ]
  },
  {
   "cell_type": "code",
   "execution_count": null,
   "metadata": {},
   "outputs": [],
   "source": []
  },
  {
   "cell_type": "code",
   "execution_count": null,
   "metadata": {},
   "outputs": [],
   "source": []
  },
  {
   "cell_type": "code",
   "execution_count": null,
   "metadata": {},
   "outputs": [],
   "source": []
  },
  {
   "cell_type": "code",
   "execution_count": null,
   "metadata": {},
   "outputs": [],
   "source": []
  },
  {
   "cell_type": "code",
   "execution_count": null,
   "metadata": {},
   "outputs": [],
   "source": []
  },
  {
   "cell_type": "code",
   "execution_count": null,
   "metadata": {},
   "outputs": [],
   "source": []
  },
  {
   "cell_type": "code",
   "execution_count": null,
   "metadata": {},
   "outputs": [],
   "source": []
  }
 ],
 "metadata": {
  "kernelspec": {
   "display_name": "Python 3",
   "language": "python",
   "name": "python3"
  },
  "language_info": {
   "codemirror_mode": {
    "name": "ipython",
    "version": 3
   },
   "file_extension": ".py",
   "mimetype": "text/x-python",
   "name": "python",
   "nbconvert_exporter": "python",
   "pygments_lexer": "ipython3",
   "version": "3.7.1"
  }
 },
 "nbformat": 4,
 "nbformat_minor": 1
}
